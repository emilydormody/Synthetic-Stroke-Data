{
 "cells": [
  {
   "cell_type": "code",
   "execution_count": 2,
   "id": "ed87f3f8",
   "metadata": {
    "pycharm": {
     "name": "#%%\n"
    }
   },
   "outputs": [],
   "source": [
    "import pandas as pd\n",
    "import matplotlib.pyplot as plt\n",
    "import seaborn as sns\n",
    "from scipy import stats\n",
    "import numpy as np\n",
    "import datetime\n",
    "import warnings\n",
    "warnings.simplefilter(action='ignore', category=FutureWarning)"
   ]
  },
  {
   "cell_type": "code",
   "execution_count": null,
   "outputs": [],
   "source": [
    "files = '~/Documents/NSERC/files/'\n",
    "#files = 'C:/Users/emily/NSERC/files/'"
   ],
   "metadata": {
    "collapsed": false,
    "pycharm": {
     "name": "#%%\n"
    }
   }
  },
  {
   "cell_type": "code",
   "execution_count": null,
   "outputs": [],
   "source": [
    "def read(filename, mimic, folder=None):\n",
    "    if mimic:\n",
    "        if folder is None:\n",
    "            raise ValueError('Enter Folder')\n",
    "        files = '~/Documents/NSERC/mimic-iv-2.2/'+folder+'/extracted_csvs/'\n",
    "    else:\n",
    "        #files = 'C:/Users/emily/NSERC/files/'\n",
    "        files = '~/Documents/NSERC/files/'\n",
    "    file = pd.read_csv(files+filename+'.csv')\n",
    "    if 'Unnamed: 0' in file.columns:\n",
    "        file = file.drop('Unnamed: 0', axis=1)\n",
    "    return file "
   ],
   "metadata": {
    "collapsed": false,
    "pycharm": {
     "name": "#%%\n"
    }
   }
  },
  {
   "cell_type": "code",
   "execution_count": null,
   "outputs": [],
   "source": [
    "def readc(filename):\n",
    "    file = pd.read_csv(files+'consults/'+filename+'.csv')\n",
    "    if 'Unnamed: 0' in file.columns:\n",
    "        file = file.drop('Unnamed: 0', axis=1)\n",
    "    return file "
   ],
   "metadata": {
    "collapsed": false,
    "pycharm": {
     "name": "#%%\n"
    }
   }
  },
  {
   "cell_type": "code",
   "execution_count": null,
   "outputs": [],
   "source": [
    "icu = read('icu_results', False)\n",
    "ed = read('ed_timedata', False)\n",
    "neuro = read('neuro_ward_timedata', False)\n",
    "icu_neuro = read('after', False)"
   ],
   "metadata": {
    "collapsed": false,
    "pycharm": {
     "name": "#%%\n"
    }
   }
  },
  {
   "cell_type": "code",
   "execution_count": null,
   "outputs": [],
   "source": [
    "ocu = readc('occupational_therapy')\n",
    "pt = readc('physio_therapy')\n",
    "ng_pt = readc('negative_physio')"
   ],
   "metadata": {
    "collapsed": false,
    "pycharm": {
     "name": "#%%\n"
    }
   }
  },
  {
   "cell_type": "markdown",
   "source": [
    "# Synthetic Stroke Data – Mimic Analysis"
   ],
   "metadata": {
    "collapsed": false,
    "pycharm": {
     "name": "#%% md\n"
    }
   }
  },
  {
   "cell_type": "markdown",
   "source": [
    "### Histograms:\n",
    "- Length of stay in ICU\n",
    "- Length of stay in Emergency Department\n",
    "- Length of stay in Neurology Ward\n",
    "- Admission time to CT Scan\n",
    "- Admission time to TPA\n",
    "- Admission time to ICU\n",
    "- Admission time to Neurology Ward/ICU to Neurology Ward\n",
    "- Admission time to all Specialists\n",
    "    - Physiotherapist\n",
    "    - Occupational Therapist\n",
    "    - Social Worker\n",
    "    - Dietitian\n",
    "    - Cardiologist\n",
    "    - Neurologist\n",
    "    - Speech Language Pathologist"
   ],
   "metadata": {
    "collapsed": false,
    "pycharm": {
     "name": "#%% md\n"
    }
   }
  },
  {
   "cell_type": "markdown",
   "source": [
    "## Length of stay in ICU"
   ],
   "metadata": {
    "collapsed": false,
    "pycharm": {
     "name": "#%% md\n"
    }
   }
  },
  {
   "cell_type": "code",
   "execution_count": null,
   "outputs": [],
   "source": [
    "sns.histplot(x='icu_time_mins',data=icu, stat='density').set(title='icu time')"
   ],
   "metadata": {
    "collapsed": false,
    "pycharm": {
     "name": "#%%\n"
    }
   }
  },
  {
   "cell_type": "markdown",
   "source": [
    "Data was broken into 3 sections for more accurate distributions:\n",
    "- 0-2400 minutes\n",
    "- 2400-20000 minutes\n",
    "- 20000-80000 minutes\n",
    "  \n",
    "When choosing which distribution, a patient has a percent chance equal to the percent of patients in each category. Each time is measured by a patient’s ICU out time and ICU in time. "
   ],
   "metadata": {
    "collapsed": false,
    "pycharm": {
     "name": "#%% md\n"
    }
   }
  },
  {
   "cell_type": "markdown",
   "source": [
    "### From 0 to 2400 minutes:\n",
    "Models the early peak in minutes"
   ],
   "metadata": {
    "collapsed": false,
    "pycharm": {
     "name": "#%% md\n"
    }
   }
  },
  {
   "cell_type": "code",
   "execution_count": null,
   "outputs": [],
   "source": [
    "x = np.linspace(0, 2400, 100)\n",
    "\n",
    "data=icu[icu['icu_time_mins']<2400]\n",
    "\n",
    "a,loc, scale = stats.skewnorm.fit(data['icu_time_mins'])\n",
    "\n",
    "sns.histplot(x='icu_time_mins',data=data, stat='density').set(title='icu time: 0 to 2400')\n",
    "sns.lineplot(x=x, y=stats.skewnorm.pdf(x,a, loc, scale), color='black')"
   ],
   "metadata": {
    "collapsed": false,
    "pycharm": {
     "name": "#%%\n"
    }
   }
  },
  {
   "cell_type": "markdown",
   "source": [
    "- Graphed using a skewnorm distribution\n",
    "- a = -2.82\n",
    "- loc = 2085\n",
    "- scale = 805.6\n",
    "- ­Out of all stroke patient ICU stays, this distribution includes 28.5% of them."
   ],
   "metadata": {
    "collapsed": false,
    "pycharm": {
     "name": "#%% md\n"
    }
   }
  },
  {
   "cell_type": "markdown",
   "source": [
    "### From 2400 minutes to 20000 minutes:\n",
    "Models the main peak and descent"
   ],
   "metadata": {
    "collapsed": false,
    "pycharm": {
     "name": "#%% md\n"
    }
   }
  },
  {
   "cell_type": "code",
   "execution_count": null,
   "outputs": [],
   "source": [
    "x2 = np.linspace(2400, 20000, 100)\n",
    "\n",
    "data2=icu[icu['icu_time_mins']>=2400]\n",
    "data2=data2[data2['icu_time_mins']<20000]\n",
    "\n",
    "a2,loc2, scale2 = stats.gamma.fit(data2['icu_time_mins'])\n",
    "\n",
    "sns.histplot(x='icu_time_mins',data=data2, stat='density').set(title='icu time: 2400 to 20000')\n",
    "sns.lineplot(x=x2,y=stats.gamma.pdf(x2, a2, loc2,scale2), color='red')"
   ],
   "metadata": {
    "collapsed": false,
    "pycharm": {
     "name": "#%%\n"
    }
   }
  },
  {
   "cell_type": "markdown",
   "source": [
    "- Graphed using a gamma distribution.\n",
    "- a = 0.891\n",
    "- loc = 2404.5\n",
    "- scale = 5009.6\n",
    "- Out of all stroke patient ICU stays, this distribution includes 63.8% of them."
   ],
   "metadata": {
    "collapsed": false,
    "pycharm": {
     "name": "#%% md\n"
    }
   }
  },
  {
   "cell_type": "markdown",
   "source": [
    "### From 20000 minutes to 80000 minutes:\n",
    "Models the rest of small values as the frequency of values begins to drop off"
   ],
   "metadata": {
    "collapsed": false,
    "pycharm": {
     "name": "#%% md\n"
    }
   }
  },
  {
   "cell_type": "code",
   "execution_count": null,
   "outputs": [],
   "source": [
    "x3 = np.linspace(20000,80000, 100)\n",
    "data3 = icu[icu['icu_time_mins']>=20000]\n",
    "data3 = data3[data3['icu_time_mins']<80000]\n",
    "a3, loc3, scale3 = stats.gamma.fit(data3['icu_time_mins'])\n",
    "sns.histplot(x='icu_time_mins', data=data3, stat='density').set(title='icu time: 2000 to 80000')\n",
    "sns.lineplot(x=x3, y=stats.gamma.pdf(x3,a3,loc3,scale3), color='green')"
   ],
   "metadata": {
    "collapsed": false,
    "pycharm": {
     "name": "#%%\n"
    }
   }
  },
  {
   "cell_type": "markdown",
   "source": [
    "- Graphed using a gamma distribution\n",
    "- a = 1.05\n",
    "- loc = 20001\n",
    "- scale = 11463\n",
    "- Out of stroke patient ICU stays, this distribution includes 7.5% of them.\n",
    "\n",
    "There are 8 points outside of this range (longer then 80000 minutes), which are excluded to create a more accurate distribution for the rest of the points, so any extra percent from those points are assigned to this distribution. This does not affect the simulated results since it is such a small amount."
   ],
   "metadata": {
    "collapsed": false,
    "pycharm": {
     "name": "#%% md\n"
    }
   }
  },
  {
   "cell_type": "markdown",
   "source": [
    "## Length of stay in Emergency Department"
   ],
   "metadata": {
    "collapsed": false,
    "pycharm": {
     "name": "#%% md\n"
    }
   }
  },
  {
   "cell_type": "markdown",
   "source": [
    "This is also used to mesure the length of time between ED/hospital arrival and hospital check in, using ED checkout time as hospital check in. Of the 9523 hospital check ins, 7115 of them begin with an ED stay (74.7%), so 3/4 of patients take a sample from this distribution. "
   ],
   "metadata": {
    "collapsed": false,
    "pycharm": {
     "name": "#%% md\n"
    }
   }
  },
  {
   "cell_type": "code",
   "execution_count": null,
   "outputs": [],
   "source": [
    "sns.histplot(x='ed_mins', data=ed, stat='density').set(title='ed time')"
   ],
   "metadata": {
    "collapsed": false,
    "pycharm": {
     "name": "#%%\n"
    }
   }
  },
  {
   "cell_type": "markdown",
   "source": [
    "Data was broken into 2 sections for more accurate distributions. \n",
    "- 0-1000 minutes\n",
    "- 1000-3500 minutes\n",
    "\n",
    "When choosing which distribution, a patient has a percent chance equal to the percent of patients in each category. Each time is measured by a patient’s ED out time (which is often the same or close to admit time) and ED in time . The patients that do not take a value from the distribution have a 0 and their hospital arrival time is equal to their hospital admission."
   ],
   "metadata": {
    "collapsed": false,
    "pycharm": {
     "name": "#%% md\n"
    }
   }
  },
  {
   "cell_type": "markdown",
   "source": [
    "### From 0 to 1000 minutes:\n",
    "Models the main peak of values"
   ],
   "metadata": {
    "collapsed": false,
    "pycharm": {
     "name": "#%% md\n"
    }
   }
  },
  {
   "cell_type": "code",
   "execution_count": null,
   "outputs": [],
   "source": [
    "data=ed[ed['ed_mins']<1000]\n",
    "a,loc, scale = stats.skewnorm.fit(data['ed_mins'])\n",
    "x = np.linspace(0,1000, 100)\n",
    "sns.histplot(x='ed_mins', data=data, stat='density').set(title='ed time: 0 to 1000')\n",
    "sns.lineplot(x=x, y=stats.skewnorm.pdf(x, a,loc, scale), color='black')"
   ],
   "metadata": {
    "collapsed": false,
    "pycharm": {
     "name": "#%%\n"
    }
   }
  },
  {
   "cell_type": "markdown",
   "source": [
    "- Graphed with a skewnorm distribution\n",
    "- a = 4\n",
    "- loc = 146.3\n",
    "- scale = 269.8\n",
    "- Out of all stroke patient ED stays, this distribution includes 95.6% of them"
   ],
   "metadata": {
    "collapsed": false,
    "pycharm": {
     "name": "#%% md\n"
    }
   }
  },
  {
   "cell_type": "markdown",
   "source": [
    "### From 1000 to 3500 minutes:\n",
    "Models the decrease in frequency of values"
   ],
   "metadata": {
    "collapsed": false,
    "pycharm": {
     "name": "#%% md\n"
    }
   }
  },
  {
   "cell_type": "code",
   "execution_count": null,
   "outputs": [],
   "source": [
    "data2=ed[ed['ed_mins']>=1000]\n",
    "a1,loc1, scale1 = stats.gamma.fit(data2['ed_mins'])\n",
    "x = np.linspace(1000,3500, 100)\n",
    "sns.histplot(x='ed_mins', data=data2, stat='density').set(title='ed time: 1000 to 3500')\n",
    "sns.lineplot(x=x, y=stats.gamma.pdf(x, a1,loc1, scale1), color='red')"
   ],
   "metadata": {
    "collapsed": false,
    "pycharm": {
     "name": "#%%\n"
    }
   }
  },
  {
   "cell_type": "markdown",
   "source": [
    "- Graphed using a gamma distribution\n",
    "- a = 1.21\n",
    "- loc = 1002.4\n",
    "- scale = 320.2\n",
    "- Out of all stroke patient ED visits, this distribution includes 4.4% of them\n",
    "\n",
    "These two distributions include all ED stay times."
   ],
   "metadata": {
    "collapsed": false,
    "pycharm": {
     "name": "#%% md\n"
    }
   }
  },
  {
   "cell_type": "markdown",
   "source": [
    "## Length of stay in the Neurology Ward"
   ],
   "metadata": {
    "collapsed": false,
    "pycharm": {
     "name": "#%% md\n"
    }
   }
  },
  {
   "cell_type": "code",
   "execution_count": null,
   "outputs": [],
   "source": [
    "sns.histplot(x='ward_time_min', data=neuro, stat='density').set(title='neurology ward time')"
   ],
   "metadata": {
    "collapsed": false,
    "pycharm": {
     "name": "#%%\n"
    }
   }
  },
  {
   "cell_type": "markdown",
   "source": [
    "Data was broken into 2 sections for more accurate results.\n",
    "- 0-15000 minutes\n",
    "- 15000-50000 minutes\n",
    "\n",
    "When choosing which distribution, a patient has a percent chance equal to the percent of patients in each category. Each time is measured by a patient’s neurology out time and in time. \n"
   ],
   "metadata": {
    "collapsed": false,
    "pycharm": {
     "name": "#%% md\n"
    }
   }
  },
  {
   "cell_type": "markdown",
   "source": [
    "### From 0 to 15000 minutes:\n",
    "Models the main peak of results"
   ],
   "metadata": {
    "collapsed": false,
    "pycharm": {
     "name": "#%% md\n"
    }
   }
  },
  {
   "cell_type": "code",
   "execution_count": null,
   "outputs": [],
   "source": [
    "x = np.linspace(0,15000, 100)\n",
    "\n",
    "data=neuro[neuro['ward_time_min'] < 15000]\n",
    "a, loc, scale = stats.gamma.fit(data['ward_time_min'])\n",
    "\n",
    "sns.histplot(x='ward_time_min', data=data, stat='density', bins=15).set(title='neurology ward time: 0 to 15000')\n",
    "sns.lineplot(x=x, y=stats.gamma.pdf(x, a,loc, scale), color='black')"
   ],
   "metadata": {
    "collapsed": false,
    "pycharm": {
     "name": "#%%\n"
    }
   }
  },
  {
   "cell_type": "markdown",
   "source": [
    "- Graphed using a gamma distribution\n",
    "- a = 2.16\n",
    "- loc = -410.2\n",
    "- scale = 2262.7\n",
    "- Of all the stroke patients in the neurology ward, this distribution includes 94.1% of them"
   ],
   "metadata": {
    "collapsed": false,
    "pycharm": {
     "name": "#%% md\n"
    }
   }
  },
  {
   "cell_type": "markdown",
   "source": [
    "### From 15000 to 50000:\n",
    "Models the decrease in frequency of values"
   ],
   "metadata": {
    "collapsed": false,
    "pycharm": {
     "name": "#%% md\n"
    }
   }
  },
  {
   "cell_type": "code",
   "execution_count": null,
   "outputs": [],
   "source": [
    "x2 = np.linspace(15000, 50000, 100)\n",
    "data2 = neuro[neuro['ward_time_min'] > 15000]\n",
    "data2 = data2[data2['ward_time_min']<50000]\n",
    "a1, loc1, scale1 = stats.gamma.fit(data2['ward_time_min'])\n",
    "\n",
    "sns.histplot(x='ward_time_min', data=data2, stat='density').set(title='neurology ward time: 15000 to 50000')\n",
    "sns.lineplot(x=x2, y=stats.gamma.pdf(x2,a1, loc1, scale1), color='red')"
   ],
   "metadata": {
    "collapsed": false,
    "pycharm": {
     "name": "#%%\n"
    }
   }
  },
  {
   "cell_type": "markdown",
   "source": [
    "- Graphed using a gamma distribution\n",
    "- a = 1.026\n",
    "- loc = 15065.1\n",
    "- scale = 6889.8\n",
    "- Of all the stroke patients in the neurology ward, this distribution includes 5.7% of them\n",
    "\n",
    "There are 11 points outside of this range (ranging from 50000 and 200000), which are excluded to create a more accurate distribution for the rest of the values, so any extra percent from those points are assigned to this distribution. This does not affect the simulated results since it is such a small amount."
   ],
   "metadata": {
    "collapsed": false,
    "pycharm": {
     "name": "#%% md\n"
    }
   }
  },
  {
   "cell_type": "markdown",
   "source": [
    "## Admission time to CT Scan and TPA\n",
    "\n",
    "Due to dates being unprecise (only mesured to the day instead of time), CT scans and TPA treatments are scheduled on a normal distribution from hospital arrival. Values are chosen based on reasonable timings. <ins>Currently all patients recieve treatment but should be updated to reflect real percentages.</ins>\n",
    "#### For CT Scans:\n",
    "- loc = 15\n",
    "- scale = 5\n",
    "#### For TPA:\n",
    "- loc = 45\n",
    "- scale = 5"
   ],
   "metadata": {
    "collapsed": false,
    "pycharm": {
     "name": "#%% md\n"
    }
   }
  },
  {
   "cell_type": "markdown",
   "source": [
    "## Admission time to ICU"
   ],
   "metadata": {
    "collapsed": false,
    "pycharm": {
     "name": "#%% md\n"
    }
   }
  },
  {
   "cell_type": "markdown",
   "source": [
    "Of the 9523 hospital checkins, there are 4274 ICU stays (44.9%), so 45% take a sample from this distribution to go to the ICU. The rest do not go to the ICU."
   ],
   "metadata": {
    "collapsed": false,
    "pycharm": {
     "name": "#%% md\n"
    }
   }
  },
  {
   "cell_type": "code",
   "execution_count": null,
   "outputs": [],
   "source": [
    "data = icu[icu['time_to_mins']>0]\n",
    "sns.histplot(x='time_to_mins', data=data, stat='density').set(title='time in icu')"
   ],
   "metadata": {
    "collapsed": false,
    "pycharm": {
     "name": "#%%\n"
    }
   }
  },
  {
   "cell_type": "markdown",
   "source": [
    "Data was broken into 3 sections for more accurate distributions:\n",
    "- 1-4 minutes\n",
    "- 4-200 minutes\n",
    "- 200-80000 minutes\n",
    "\n",
    "When choosing which distribution, a patient has a percent chance equal to the percent of patients in each category. Each time is measured by a patient’s ICU in time and hospital admit time.\n",
    "\n",
    "There are 38 values less then 0 that are excluded, some could be due to a recording error or approximated time stamp. Since the majority of negative values are near zero, as well as the majority of positive values, the negative values were removed."
   ],
   "metadata": {
    "collapsed": false,
    "pycharm": {
     "name": "#%% md\n"
    }
   }
  },
  {
   "cell_type": "markdown",
   "source": [
    "### From 1 to 4 minutes:\n",
    "Models small, early peak in data"
   ],
   "metadata": {
    "collapsed": false,
    "pycharm": {
     "name": "#%% md\n"
    }
   }
  },
  {
   "cell_type": "code",
   "execution_count": null,
   "outputs": [],
   "source": [
    "x = np.linspace(0,4,100)\n",
    "\n",
    "data = icu[icu['time_to_mins']>0]\n",
    "data = data[data['time_to_mins']<4]\n",
    "\n",
    "a, loc, scale = stats.gamma.fit(data['time_to_mins'])\n",
    "sns.histplot(x='time_to_mins', data=data, stat='density').set(title='time to icu: 1 to 4')\n",
    "sns.lineplot(x=x, y=stats.gamma.pdf(x,a,loc,scale), color='black')"
   ],
   "metadata": {
    "collapsed": false,
    "pycharm": {
     "name": "#%%\n"
    }
   }
  },
  {
   "cell_type": "markdown",
   "source": [
    "- Graphed using a gamma distribution\n",
    "- a = 3.23\n",
    "- loc = 0.237\n",
    "- scale = 0.343\n",
    "- Of all the stroke patients in the ICU, this distribution includes 15.7% of them"
   ],
   "metadata": {
    "collapsed": false,
    "pycharm": {
     "name": "#%% md\n"
    }
   }
  },
  {
   "cell_type": "markdown",
   "source": [
    "### From 4 to 200 minutes:\n",
    "Models main peak in the results"
   ],
   "metadata": {
    "collapsed": false,
    "pycharm": {
     "name": "#%% md\n"
    }
   }
  },
  {
   "cell_type": "code",
   "execution_count": null,
   "outputs": [],
   "source": [
    "x2 = np.linspace(4,200,100)\n",
    "\n",
    "data = icu[icu['time_to_mins']>4]\n",
    "data2 = data[data['time_to_mins']<=200]\n",
    "\n",
    "a2,loc2, scale2 = stats.skewnorm.fit(data2['time_to_mins'])\n",
    "\n",
    "sns.histplot(x='time_to_mins', data=data2, stat='density').set(title='time to icu: 4 to 200')\n",
    "sns.lineplot(x=x2, y=stats.skewnorm.pdf(x2, a2, loc2,scale2), color='red')"
   ],
   "metadata": {
    "collapsed": false,
    "pycharm": {
     "name": "#%%\n"
    }
   }
  },
  {
   "cell_type": "markdown",
   "source": [
    "- Graphed using a skewnorm distribution\n",
    "- a = 2.84\n",
    "- loc = 35.6\n",
    "- scale = 59.7\n",
    "- Of all the stroke patients in the ICU this distribution includes 45.8% of them"
   ],
   "metadata": {
    "collapsed": false,
    "pycharm": {
     "name": "#%% md\n"
    }
   }
  },
  {
   "cell_type": "markdown",
   "source": [
    "### From 200 to 80000:"
   ],
   "metadata": {
    "collapsed": false,
    "pycharm": {
     "name": "#%% md\n"
    }
   }
  },
  {
   "cell_type": "code",
   "execution_count": null,
   "outputs": [],
   "source": [
    "x = np.linspace(0,80000,100)\n",
    "\n",
    "data = icu[icu['time_to_mins']>200]\n",
    "data2 = data[data['time_to_mins']<=80000]\n",
    "\n",
    "a, loc, scale = stats.gamma.fit(data2['time_to_mins'])\n",
    "\n",
    "sns.histplot(x='time_to_mins', data=data2, stat='density').set(title='time to icu: 200 to 80000')\n",
    "sns.lineplot(x=x, y=stats.gamma.pdf(x,a, loc, scale), color='green')"
   ],
   "metadata": {
    "collapsed": false,
    "pycharm": {
     "name": "#%%\n"
    }
   }
  },
  {
   "cell_type": "markdown",
   "source": [
    "- Graphed using a gamma distribution\n",
    "- a = 0.547\n",
    "- loc = 201\n",
    "- scale = 15138.3\n",
    "- Of all the stroke patients in the ICU this distribution includes 37.2% of them\n",
    "\n",
    "There are 15 points larger then the range of this distribution, however including those does not make any significant change to the distribution, so they are removed for more accurate results. Any extra percent for these values is included in this distribution"
   ],
   "metadata": {
    "collapsed": false,
    "pycharm": {
     "name": "#%% md\n"
    }
   }
  },
  {
   "cell_type": "markdown",
   "source": [
    "## Time to Neurology Ward\n",
    "\n",
    "Split into two cases:\n",
    "- From admission to neurology ward in time\n",
    "- From ICU out time to neurology ward in time\n",
    "\n",
    "Of the 9523 hospital check ins, there are 4192 neurology ward stays (44%). <ins> Currently all patients go to the neurology ward but should be updated to correct percent.</ins> All patients that go to both the ICU and the neurology ward (in that order) have a neurology time based off of when they leave the ICU. The rest are based off of admission time."
   ],
   "metadata": {
    "collapsed": false,
    "pycharm": {
     "name": "#%% md\n"
    }
   }
  },
  {
   "cell_type": "markdown",
   "source": [
    "## Admission time to Neurology Ward"
   ],
   "metadata": {
    "collapsed": false,
    "pycharm": {
     "name": "#%% md\n"
    }
   }
  },
  {
   "cell_type": "code",
   "execution_count": null,
   "outputs": [],
   "source": [
    "sns.histplot(x='first_admit_min', data=neuro, stat='density')"
   ],
   "metadata": {
    "collapsed": false,
    "pycharm": {
     "name": "#%%\n"
    }
   }
  },
  {
   "cell_type": "markdown",
   "source": [
    "Data was broken into 4 sections for more accurate distributions:\n",
    "- 0-3 minutes\n",
    "- 3-200 minutes\n",
    "- 200-10000 minutes\n",
    "- 10000-40000 minutes\n",
    "\n",
    "When choosing which distribution, a patient has a percent chance equal to the percent of patients in each category. "
   ],
   "metadata": {
    "collapsed": false,
    "pycharm": {
     "name": "#%% md\n"
    }
   }
  },
  {
   "cell_type": "markdown",
   "source": [
    "### From 0 to 3 minutes:\n",
    "Models patients with almost immediate check in."
   ],
   "metadata": {
    "collapsed": false,
    "pycharm": {
     "name": "#%% md\n"
    }
   }
  },
  {
   "cell_type": "code",
   "execution_count": null,
   "outputs": [],
   "source": [
    "x = np.linspace(0,3, 100)\n",
    "data=neuro[neuro['first_admit_min'] <= 3]\n",
    "a,loc, scale = stats.skewnorm.fit(data['first_admit_min'])\n",
    "\n",
    "sns.histplot(x='first_admit_min', data=data, stat='density').set(title='admit to neurology: 0 to 3 mins')\n",
    "sns.lineplot(x=x, y=stats.skewnorm.pdf(x, a,loc, scale), color='black')"
   ],
   "metadata": {
    "collapsed": false,
    "pycharm": {
     "name": "#%%\n"
    }
   }
  },
  {
   "cell_type": "markdown",
   "source": [
    "- Graphed using a skewnorm distribution\n",
    "- a = 2.81\n",
    "- loc = 0.762\n",
    "- scale = 0.703\n",
    "- Of the stroke patient neurology stays, this distribution includes 10%"
   ],
   "metadata": {
    "collapsed": false,
    "pycharm": {
     "name": "#%% md\n"
    }
   }
  },
  {
   "cell_type": "markdown",
   "source": [
    "### From 3 to 200 minutes:\n",
    "Models second peak in times"
   ],
   "metadata": {
    "collapsed": false,
    "pycharm": {
     "name": "#%% md\n"
    }
   }
  },
  {
   "cell_type": "code",
   "execution_count": null,
   "outputs": [],
   "source": [
    "x2 = np.linspace(3, 200, 100)\n",
    "data2 = neuro[neuro['first_admit_min'] > 3]\n",
    "data2 = data2[data2['first_admit_min']<=200]\n",
    "a2,loc2, scale2 = stats.skewnorm.fit(data2['first_admit_min'])\n",
    "\n",
    "sns.histplot(x='first_admit_min', data=data2, stat='density').set(title='admit to neurology: 3 to 200 mins')\n",
    "sns.lineplot(x=x2, y=stats.skewnorm.pdf(x2, a2,loc2, scale2), color='red')"
   ],
   "metadata": {
    "collapsed": false,
    "pycharm": {
     "name": "#%%\n"
    }
   }
  },
  {
   "cell_type": "markdown",
   "source": [
    "- Graphed using a skewnorm distribution\n",
    "- a = 2.3\n",
    "- loc = 45.1\n",
    "- scale = 49.4\n",
    "- Of the stroke patient neurology stays, this distribution includes 45.6%"
   ],
   "metadata": {
    "collapsed": false,
    "pycharm": {
     "name": "#%% md\n"
    }
   }
  },
  {
   "cell_type": "markdown",
   "source": [
    "### From 200 to 10000:\n",
    "Models third peak in data"
   ],
   "metadata": {
    "collapsed": false,
    "pycharm": {
     "name": "#%% md\n"
    }
   }
  },
  {
   "cell_type": "code",
   "execution_count": null,
   "outputs": [],
   "source": [
    "x3 = np.linspace(200,10000)\n",
    "data3 = neuro[neuro['first_admit_min']>200]\n",
    "data3 = data3[data3['first_admit_min']<=10000]\n",
    "a3,loc3, scale3 = stats.gamma.fit(data3['first_admit_min'])\n",
    "\n",
    "sns.histplot(x='first_admit_min', data=data3, stat='density').set(title='admit to neurology: 200 to 10000')\n",
    "sns.lineplot(x=x3, y=stats.gamma.pdf(x3, a3,loc3, scale3), color='green')"
   ],
   "metadata": {
    "collapsed": false,
    "pycharm": {
     "name": "#%%\n"
    }
   }
  },
  {
   "cell_type": "markdown",
   "source": [
    "- Graphed using a gamma distribution\n",
    "- a = 1.72\n",
    "- loc = 100.2\n",
    "- scale = 1821.3\n",
    "- Of the stroke patient neurology stays, this distribution includes 37.5%"
   ],
   "metadata": {
    "collapsed": false,
    "pycharm": {
     "name": "#%% md\n"
    }
   }
  },
  {
   "cell_type": "markdown",
   "source": [
    "### From 10000 to 40000 minutes:"
   ],
   "metadata": {
    "collapsed": false,
    "pycharm": {
     "name": "#%% md\n"
    }
   }
  },
  {
   "cell_type": "code",
   "execution_count": null,
   "outputs": [],
   "source": [
    "x4 = np.linspace(10000, 40000)\n",
    "data4 = neuro[neuro['first_admit_min']>10000]\n",
    "data4 = data4[data4['first_admit_min']<=40000]\n",
    "a4,loc4, scale4 = stats.gamma.fit(data4['first_admit_min'])\n",
    "\n",
    "sns.histplot(x='first_admit_min', data=data4, stat='density').set(title='admit to neurology: 10000 to 40000')\n",
    "sns.lineplot(x=x4, y=stats.gamma.pdf(x4,a4, loc4, scale4), color='black')"
   ],
   "metadata": {
    "collapsed": false,
    "pycharm": {
     "name": "#%%\n"
    }
   }
  },
  {
   "cell_type": "markdown",
   "source": [
    "- Graphed using a gamma distribution\n",
    "- a = 0.749\n",
    "- loc = 10089.2\n",
    "- scale = 8856.7\n",
    "- Of all the stroke patient neurology stays, this distribution includes 6.7%\n",
    "\n",
    "There are 10 points outside of this range (ranging from 40000 and 90000), which are excluded to create a more accurate distribution for the rest of the values, so any extra percent from those points are assigned to this distribution. This does not affect the simulated results since it is such a small amount."
   ],
   "metadata": {
    "collapsed": false,
    "pycharm": {
     "name": "#%% md\n"
    }
   }
  },
  {
   "cell_type": "code",
   "execution_count": null,
   "outputs": [],
   "source": [
    "## ICU Time to Neurology Ward\n",
    "\n",
    "Of the 4192 stroke neurology stays, 1365 of them have an ICU stay beforehand (32.6%) and are included in the category."
   ],
   "metadata": {
    "collapsed": false,
    "pycharm": {
     "name": "#%%\n"
    }
   }
  },
  {
   "cell_type": "code",
   "execution_count": null,
   "outputs": [],
   "source": [
    "sns.histplot(x='mins', data=icu_neuro, stat='density').set(title='icu to neurology')"
   ],
   "metadata": {
    "collapsed": false,
    "pycharm": {
     "name": "#%%\n"
    }
   }
  },
  {
   "cell_type": "markdown",
   "source": [
    "Data was broken into 2 groups for more accurate distributions:\n",
    "- 0 minutes\n",
    "- Greater then 0 minutes\n",
    "\n",
    "When choosing which distribution, a patient has a percent chance equal to the percent of patients in each category."
   ],
   "metadata": {
    "collapsed": false,
    "pycharm": {
     "name": "#%% md\n"
    }
   }
  },
  {
   "cell_type": "markdown",
   "source": [
    "### 0 minutes:\n",
    "Most of the patients go immediately to the neurology ward after they check out of the ICU (96.1%). Any patient in this category has their neurology in time set equal to their ICU out time and the transition happens in the same step."
   ],
   "metadata": {
    "collapsed": false,
    "pycharm": {
     "name": "#%% md\n"
    }
   }
  },
  {
   "cell_type": "markdown",
   "source": [
    "### Greater then 0 minutes:"
   ],
   "metadata": {
    "collapsed": false,
    "pycharm": {
     "name": "#%% md\n"
    }
   }
  },
  {
   "cell_type": "code",
   "execution_count": null,
   "outputs": [],
   "source": [
    "data = icu_neuro[icu_neuro['mins']>0]\n",
    "tox=np.linspace(0, 10000, 100)\n",
    "a, loc, scale = stats.gamma.fit(data['mins'])\n",
    "\n",
    "sns.lineplot(x=x, y=stats.gamma.pdf(x,a,loc,scale), color='black')\n",
    "sns.histplot(x='mins', data=data, stat='density').set(title='icu to neurology: > 0')"
   ],
   "metadata": {
    "collapsed": false,
    "pycharm": {
     "name": "#%%\n"
    }
   }
  },
  {
   "cell_type": "markdown",
   "source": [
    "- Graphed using a gamma distribution\n",
    "- a = 0.832\n",
    "- loc = 1.42\n",
    "- scale = 2309.4\n",
    "- Of all stroke patient neurology stays that come after an ICU stays, this distribution includes 3.9%"
   ],
   "metadata": {
    "collapsed": false,
    "pycharm": {
     "name": "#%% md\n"
    }
   }
  },
  {
   "cell_type": "markdown",
   "source": [
    "## Admission time to Specialists\n",
    "\n",
    "## Physiotherapy"
   ],
   "metadata": {
    "collapsed": false,
    "pycharm": {
     "name": "#%% md\n"
    }
   }
  },
  {
   "cell_type": "markdown",
   "source": [
    "<ins>Currently any patient who does not have a conflict can be visited by a physiotherapist. This should be updated to reflect accurate percentages. As well, model should be updated to allow for multiple visits within one hospital stay.</ins>"
   ],
   "metadata": {
    "collapsed": false,
    "pycharm": {
     "name": "#%% md\n"
    }
   }
  },
  {
   "cell_type": "code",
   "execution_count": null,
   "outputs": [],
   "source": [
    "sns.histplot(x='mins', data=pt, stat='density')"
   ],
   "metadata": {
    "collapsed": false,
    "pycharm": {
     "name": "#%%\n"
    }
   }
  },
  {
   "cell_type": "markdown",
   "source": [
    "Data was broken into 4 sections for more accurate distributions\n",
    "- Less then 0\n",
    "- 0-300 minutes\n",
    "- 300-30000 minutes\n",
    "- 30000-80000 minutes\n",
    "\n",
    "When choosing which distribution, a patient has a percent chance equal to the percent of patients in each category. Most times are mesured from hospital admission to physiotherapy order time, and the rest from ED arrival."
   ],
   "metadata": {
    "collapsed": false,
    "pycharm": {
     "name": "#%% md\n"
    }
   }
  },
  {
   "cell_type": "markdown",
   "source": [
    "### Less then 0:\n",
    "\n",
    "Models data that happens before hospital admission (in ED or unexplained)"
   ],
   "metadata": {
    "collapsed": false,
    "pycharm": {
     "name": "#%% md\n"
    }
   }
  },
  {
   "cell_type": "code",
   "execution_count": null,
   "outputs": [],
   "source": [
    "data = ng_pt[ng_pt['from_ed_mins']>=0]\n",
    "data = data[data['from_ed_mins']<1000]\n",
    "x = np.linspace(0, 1000, 100)\n",
    "a, loc, scale = stats.gamma.fit(data.from_ed_mins)\n",
    "sns.histplot(x='from_ed_mins', data=data, stat='density')\n",
    "sns.lineplot(x=x, y=stats.gamma.pdf(x,a,loc,scale), color='black')"
   ],
   "metadata": {
    "collapsed": false,
    "pycharm": {
     "name": "#%%\n"
    }
   }
  },
  {
   "cell_type": "code",
   "execution_count": 26,
   "id": "057243f1-c1a5-4982-9103-5e34e7d822f8",
   "metadata": {
    "pycharm": {
     "name": "#%%\n"
    }
   },
   "outputs": [
    {
     "data": {
      "text/plain": [
       "<Axes: title={'center': 'admit to neurology: 10000 to 40000'}, xlabel='first_admit_min', ylabel='Density'>"
      ]
     },
     "execution_count": 26,
     "metadata": {},
     "output_type": "execute_result"
    },
    {
     "data": {
      "image/png": "[encoded data removed]",
      "text/plain": [
       "<Figure size 640x480 with 1 Axes>"
      ]
     },
     "metadata": {},
     "output_type": "display_data"
    }
   ],
   "source": [
    "x4 = np.linspace(10000, 40000)\n",
    "data4 = neuro[neuro['first_admit_min']>10000]\n",
    "data4 = data4[data4['first_admit_min']<=40000]\n",
    "a4,loc4, scale4 = stats.gamma.fit(data4['first_admit_min'])\n",
    "\n",
    "sns.histplot(x='first_admit_min', data=data4, stat='density').set(title='admit to neurology: 10000 to 40000')\n",
    "sns.lineplot(x=x4, y=stats.gamma.pdf(x4,a4, loc4, scale4), color='black')"
   ]
  },
  {
   "cell_type": "markdown",
   "id": "8c706b63-5c47-492e-bd29-a94720326289",
   "metadata": {
    "pycharm": {
     "name": "#%% md\n"
    }
   },
   "source": [
    "- Graphed using a gamma distribution\n",
    "- a = 0.749\n",
    "- loc = 10089.2\n",
    "- scale = 8856.7\n",
    "- Of all the stroke patient neurology stays, this distribution includes 6.7%\n",
    "\n",
    "There are 10 points outside of this range (ranging from 40000 and 90000), which are excluded to create a more accurate distribution for the rest of the values, so any extra percent from those points are assigned to this distribution. This does not affect the simulated results since it is such a small amount."
   ]
  },
  {
   "cell_type": "markdown",
   "id": "7ffe4276-0ce3-455d-929b-7051fd00d705",
   "metadata": {
    "jp-MarkdownHeadingCollapsed": true,
    "pycharm": {
     "name": "#%%\n"
    }
   },
   "source": [
    "## ICU Time to Neurology Ward\n",
    "\n",
    "Of the 4192 stroke neurology stays, 1365 of them have an ICU stay beforehand (32.6%) and are included in the category."
   ]
  },
  {
   "cell_type": "code",
   "execution_count": 27,
   "id": "c2689e4d-0f31-4c0f-8a39-6d4424161bae",
   "metadata": {},
   "outputs": [
    {
     "data": {
      "text/plain": [
       "[Text(0.5, 1.0, 'icu to neurology')]"
      ]
     },
     "execution_count": 27,
     "metadata": {},
     "output_type": "execute_result"
    },
    {
     "data": {
      "image/png": "[encoded data removed]",
      "text/plain": [
       "<Figure size 640x480 with 1 Axes>"
      ]
     },
     "metadata": {},
     "output_type": "display_data"
    }
   ],
   "source": [
    "sns.histplot(x='mins', data=icu_neuro, stat='density').set(title='icu to neurology')"
   ]
  },
  {
   "cell_type": "markdown",
   "id": "1d01ccfa-04fd-4c62-9a34-21b48a53e4c9",
   "metadata": {},
   "source": [
    "Data was broken into 2 groups for more accurate distributions:\n",
    "- 0 minutes\n",
    "- Greater then 0 minutes\n",
    "\n",
    "When choosing which distribution, a patient has a percent chance equal to the percent of patients in each category."
   ]
  },
  {
   "cell_type": "markdown",
   "id": "d04cd992-d7ff-4198-90c2-2fabe16ff9bf",
   "metadata": {},
   "source": [
    "### 0 minutes:\n",
    "Most of the patients go immediately to the neurology ward after they check out of the ICU (96.1%). Any patient in this category has their neurology in time set equal to their ICU out time and the transition happens in the same step."
   ]
  },
  {
   "cell_type": "markdown",
   "id": "373f60ba-7953-4f85-9c98-1e52e58c658c",
   "metadata": {},
   "source": [
    "### Greater then 0 minutes:"
   ]
  },
  {
   "cell_type": "code",
   "execution_count": 28,
   "id": "8345114a-f34a-4138-8bbc-63e8fdb221f5",
   "metadata": {},
   "outputs": [
    {
     "data": {
      "text/plain": [
       "[Text(0.5, 1.0, 'icu to neurology: > 0')]"
      ]
     },
     "execution_count": 28,
     "metadata": {},
     "output_type": "execute_result"
    },
    {
     "data": {
      "image/png": "[encoded data removed]",
      "text/plain": [
       "<Figure size 640x480 with 1 Axes>"
      ]
     },
     "metadata": {},
     "output_type": "display_data"
    }
   ],
   "source": [
    "data = icu_neuro[icu_neuro['mins']>0]\n",
    "tox=np.linspace(0, 10000, 100)\n",
    "a, loc, scale = stats.gamma.fit(data['mins'])\n",
    "\n",
    "sns.lineplot(x=x, y=stats.gamma.pdf(x,a,loc,scale), color='black')\n",
    "sns.histplot(x='mins', data=data, stat='density').set(title='icu to neurology: > 0')"
   ]
  },
  {
   "cell_type": "markdown",
   "id": "52bf2d55-9d53-41a7-9218-467cb77b8cfa",
   "metadata": {},
   "source": [
    "- Graphed using a gamma distribution\n",
    "- a = 0.832\n",
    "- loc = 1.42\n",
    "- scale = 2309.4\n",
    "- Of all stroke patient neurology stays that come after an ICU stays, this distribution includes 3.9%"
   ]
  },
  {
   "cell_type": "markdown",
   "id": "1a011d50-d0f0-469e-be80-4ca5c05a90ed",
   "metadata": {},
   "source": [
    "## Admission time to Specialists\n",
    "\n",
    "## Physiotherapy"
   ]
  },
  {
   "cell_type": "markdown",
   "id": "dba7b8c0-02bc-43b7-948e-ca8b7e93ae3e",
   "metadata": {},
   "source": [
    "<ins>Currently any patient who does not have a conflict can be visited by a physiotherapist. This should be updated to reflect accurate percentages. As well, model should be updated to allow for multiple visits within one hospital stay.</ins>"
   ]
  },
  {
   "cell_type": "code",
   "execution_count": 29,
   "id": "51c2372b-76cb-4003-a067-b143a708d718",
   "metadata": {},
   "outputs": [
    {
     "data": {
      "text/plain": [
       "<Axes: xlabel='mins', ylabel='Density'>"
      ]
     },
     "execution_count": 29,
     "metadata": {},
     "output_type": "execute_result"
    },
    {
     "data": {
      "image/png": "[encoded data removed]",
      "text/plain": [
       "<Figure size 640x480 with 1 Axes>"
      ]
     },
     "metadata": {},
     "output_type": "display_data"
    }
   ],
   "source": [
    "sns.histplot(x='mins', data=pt, stat='density')"
   ]
  },
  {
   "cell_type": "markdown",
   "id": "1a0702c7-de29-474f-af54-3f7ecff7fe2f",
   "metadata": {},
   "source": [
    "Data was broken into 4 sections for more accurate distributions\n",
    "- Less then 0\n",
    "- 0-300 minutes\n",
    "- 300-30000 minutes\n",
    "- 30000-80000 minutes\n",
    "\n",
    "When choosing which distribution, a patient has a percent chance equal to the percent of patients in each category. Most times are mesured from hospital admission to physiotherapy order time, and the rest from ED arrival."
   ]
  },
  {
   "cell_type": "markdown",
   "id": "92d03443-678e-492c-805f-53014a1e70f1",
   "metadata": {},
   "source": [
    "### Less then 0:\n",
    "\n",
    "Models data that happens before hospital admission (in ED or unexplained)"
   ]
  },
  {
   "cell_type": "code",
   "execution_count": 34,
   "id": "d2239e8b-bd89-499d-98c2-7b946481d108",
   "metadata": {},
   "outputs": [
    {
     "data": {
      "text/plain": [
       "<Axes: xlabel='from_ed_mins', ylabel='Density'>"
      ]
     },
     "execution_count": 34,
     "metadata": {},
     "output_type": "execute_result"
    },
    {
     "data": {
      "image/png": "[encoded data removed]",
      "text/plain": [
       "<Figure size 640x480 with 1 Axes>"
      ]
     },
     "metadata": {},
     "output_type": "display_data"
    }
   ],
   "source": [
    "data = ng_pt[ng_pt['from_ed_mins']>=0]\n",
    "data = data[data['from_ed_mins']<1000]\n",
    "x = np.linspace(0, 1000, 100)\n",
    "a, loc, scale = stats.gamma.fit(data.from_ed_mins)\n",
    "sns.histplot(x='from_ed_mins', data=data, stat='density')\n",
    "sns.lineplot(x=x, y=stats.gamma.pdf(x,a,loc,scale), color='black')"
   ]
  },
  {
   "cell_type": "code",
   "execution_count": null,
   "id": "8e332799-cef5-4019-b677-352b77b2468d",
   "metadata": {},
   "outputs": [],
   "source": []
  }
 ],
 "metadata": {
  "kernelspec": {
   "display_name": "Python 3 (ipykernel)",
   "language": "python",
   "name": "python3"
  },
  "language_info": {
   "codemirror_mode": {
    "name": "ipython",
    "version": 3
   },
   "file_extension": ".py",
   "mimetype": "text/x-python",
   "name": "python",
   "nbconvert_exporter": "python",
   "pygments_lexer": "ipython3",
   "version": "3.8.10"
  }
 },
 "nbformat": 4,
 "nbformat_minor": 5
}